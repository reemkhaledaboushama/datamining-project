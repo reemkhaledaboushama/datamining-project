{
 "cells": [
  {
   "cell_type": "markdown",
   "id": "55411bdf",
   "metadata": {},
   "source": [
    "<h1> Reem Khaled Elsayed Aboushama </h1>  </br>  <h2>Data Mining and Business Intelligence</h2> </br> <h2> CSE 382 </h2>"
   ]
  },
  {
   "cell_type": "code",
   "execution_count": 1,
   "id": "2ab79769",
   "metadata": {},
   "outputs": [],
   "source": [
    "import pandas as pd\n",
    "import numpy as np"
   ]
  },
  {
   "cell_type": "markdown",
   "id": "3dbc6efb",
   "metadata": {},
   "source": [
    "<h2>Reading the data<h2>"
   ]
  },
  {
   "cell_type": "code",
   "execution_count": null,
   "id": "44778be4",
   "metadata": {},
   "outputs": [],
   "source": [
    "data = pd.read_csv(r\"creditcard.csv\")\n"
   ]
  },
  {
   "cell_type": "markdown",
   "id": "60c5eb52",
   "metadata": {},
   "source": [
    "<h1> Data Preprocessing </h1>"
   ]
  },
  {
   "cell_type": "markdown",
   "id": "b97476b3",
   "metadata": {},
   "source": [
    "<H3>Checking if data import was successful </H3>"
   ]
  },
  {
   "cell_type": "code",
   "execution_count": null,
   "id": "009ae5e0",
   "metadata": {},
   "outputs": [],
   "source": []
  }
 ],
 "metadata": {
  "kernelspec": {
   "display_name": "Python 3 (ipykernel)",
   "language": "python",
   "name": "python3"
  },
  "language_info": {
   "codemirror_mode": {
    "name": "ipython",
    "version": 3
   },
   "file_extension": ".py",
   "mimetype": "text/x-python",
   "name": "python",
   "nbconvert_exporter": "python",
   "pygments_lexer": "ipython3",
   "version": "3.9.5"
  }
 },
 "nbformat": 4,
 "nbformat_minor": 5
}
