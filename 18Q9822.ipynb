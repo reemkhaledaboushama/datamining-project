{
 "cells": [
  {
   "cell_type": "markdown",
   "id": "74987ae0",
   "metadata": {},
   "source": [
    "<h1> Reem Khaled Elsayed Aboushama </h1>  </br>  <h2>Data Mining and Business Intelligence</h2> </br> <h2> CSE 382 </h2>"
   ]
  },
  {
   "cell_type": "code",
   "execution_count": 1,
   "id": "32396a2c",
   "metadata": {},
   "outputs": [],
   "source": [
    "import pandas as pd\n",
    "import numpy as np\n",
    "import matplotlib.pyplot as plt"
   ]
  },
  {
   "cell_type": "markdown",
   "id": "baf9cb7c",
   "metadata": {},
   "source": [
    "<h2>Reading the data<h2>"
   ]
  },
  {
   "cell_type": "code",
   "execution_count": 2,
   "id": "ee43607b",
   "metadata": {},
   "outputs": [],
   "source": [
    "data = pd.read_csv(r\"creditcard.csv\")\n"
   ]
  },
  {
   "cell_type": "markdown",
   "id": "6f4467f2",
   "metadata": {},
   "source": [
    "<h1> Data Preprocessing </h1>"
   ]
  },
  {
   "cell_type": "markdown",
   "id": "e8b9b6e7",
   "metadata": {},
   "source": [
    "<H3>Checking if data import was successful </H3>"
   ]
  },
  {
   "cell_type": "code",
   "execution_count": null,
   "id": "8642add7",
   "metadata": {},
   "outputs": [],
   "source": [
    "data.head(10)"
   ]
  },
  {
   "cell_type": "markdown",
   "id": "8ddf7aba",
   "metadata": {},
   "source": [
    "<b> checking data types of attributes</b>"
   ]
  },
  {
   "cell_type": "code",
   "execution_count": null,
   "id": "1e1645bc",
   "metadata": {},
   "outputs": [],
   "source": [
    "data.dtypes\n"
   ]
  },
  {
   "cell_type": "markdown",
   "id": "77290fda",
   "metadata": {},
   "source": [
    "<b> No N/A values, </br> all are float, and one is int, we can proceed </b>"
   ]
  },
  {
   "cell_type": "markdown",
   "id": "2ae0dc1d",
   "metadata": {},
   "source": [
    "<b>checking that values of dependent variable contains 0s and 1s only </b>"
   ]
  },
  {
   "cell_type": "code",
   "execution_count": null,
   "id": "4f1eb290",
   "metadata": {},
   "outputs": [],
   "source": [
    "data['Class'].unique()"
   ]
  },
  {
   "cell_type": "markdown",
   "id": "71660b52",
   "metadata": {},
   "source": [
    "<b> no mistakes in data entry</b>"
   ]
  },
  {
   "cell_type": "markdown",
   "id": "5ebbebf6",
   "metadata": {},
   "source": [
    "<h2>Checking if there are missing data </h2>"
   ]
  },
  {
   "cell_type": "code",
   "execution_count": null,
   "id": "75bcd60c",
   "metadata": {},
   "outputs": [],
   "source": [
    "data.shape\n",
    "rows_without_missing_data = data.dropna()\n",
    "rows_without_missing_data.shape\n",
    "print('all rows:{}'.format(data.shape))\n",
    "print('rows without missing data:{}'.format(rows_without_missing_data.shape))"
   ]
  },
  {
   "cell_type": "markdown",
   "id": "feffeb00",
   "metadata": {},
   "source": [
    "<b> therefore no missing data</b>"
   ]
  },
  {
   "cell_type": "markdown",
   "id": "573d8d8a",
   "metadata": {},
   "source": [
    "<h2> Data Normalization</h2>\n",
    "<b> In an attempt to reduce any data duplictes or redundancies if present</b>"
   ]
  },
  {
   "cell_type": "code",
   "execution_count": null,
   "id": "0f022f79",
   "metadata": {},
   "outputs": [],
   "source": [
    "data=(data-data.min())/(data.max()-data.min())\n",
    "data.head(10)"
   ]
  },
  {
   "cell_type": "markdown",
   "id": "7d6e46e5",
   "metadata": {},
   "source": [
    "<b>dropping time attribute since it seems to be assigning random values and doesnt help us in our prediction </b>"
   ]
  },
  {
   "cell_type": "code",
   "execution_count": null,
   "id": "634b3a3f",
   "metadata": {},
   "outputs": [],
   "source": [
    "data = data.drop('Time', axis =1)\n",
    "data.head()"
   ]
  },
  {
   "cell_type": "markdown",
   "id": "c8d15038",
   "metadata": {},
   "source": [
    "<h1> Finding Correlations </h1>"
   ]
  },
  {
   "cell_type": "markdown",
   "id": "7f1df5b7",
   "metadata": {},
   "source": [
    "It was stated that all the variables in the  given dataset are principal components </br>\n",
    "Mathematically, this means they are orthogonal to each other (90 degree angle between them)</br>\n",
    "Therefore, all those variables are independent from each other</br>\n",
    "However, we can try and find correlation between \"Class\" attribute (the dependent variable), and the independent variables. </br>\n",
    "Below is a heat map showing the 10 variables that have the strongest correlation with the \"Class\" variable."
   ]
  },
  {
   "cell_type": "code",
   "execution_count": null,
   "id": "1623b0f3",
   "metadata": {},
   "outputs": [],
   "source": [
    "import matplotlib.pyplot as plt\n",
    "import matplotlib.gridspec as gridspec\n",
    "import seaborn as sns\n",
    "\n",
    "#casting class attribute to Int, to make it easier to deal with\n",
    "data['Class']=data['Class'].astype(int)\n",
    "\n",
    "correlation_ground = data.corr()\n",
    "k = 8 # this is the number of variables in the heatmap\n",
    "columns = correlation_ground.nlargest(k, 'Class')['Class'].index\n",
    "\n",
    "cm = np.corrcoef(data[columns].values.T)\n",
    "\n",
    "f, ax = plt.subplots(figsize=(8, 8))\n",
    "sns.set(font_scale=1.50)\n",
    "\n",
    "hm = sns.heatmap(cm, cbar=True, annot=True, square=True, fmt='.2f', annot_kws={'size': 10}, yticklabels=columns.values, xticklabels=columns.values)\n",
    "plt.show()"
   ]
  },
  {
   "cell_type": "markdown",
   "id": "b6303a70",
   "metadata": {},
   "source": [
    "<b> This shows that Variable 11 has the strongest correlation within variables between \"Class\" values, this means it is the most influential attribute on the dependent variable<b>"
   ]
  },
  {
   "cell_type": "markdown",
   "id": "1c7806ff",
   "metadata": {},
   "source": [
    "<h2> Observing Distribution using Violin Plot</h2> </br>"
   ]
  },
  {
   "cell_type": "markdown",
   "id": "21bd219d",
   "metadata": {},
   "source": [
    "\n",
    "Using <b>violin plot</b>  to view the distribution of each feature according to <b>\"Fraud\"</b> or <b>\"Not Fraud\".</b> </br>\n",
    "Whether a credit card transaction is a fraud or not. </br>\n",
    "A violin plot is similar to a box plot, with the addition of a rotated kernel density plot on each side."
   ]
  },
  {
   "cell_type": "code",
   "execution_count": null,
   "id": "01997395",
   "metadata": {},
   "outputs": [],
   "source": [
    "dt = 'float64'\n",
    "col = data.columns[data.dtypes==dt]\n",
    "\n",
    "plt.figure(figsize=(14,len(col)*6))\n",
    "gs = gridspec.GridSpec(len(col),2)\n",
    "for i, cn in enumerate(data[col]):\n",
    "    ax = plt.subplot(gs[i])\n",
    "    \n",
    "    data_1  = pd.concat([data[cn], data.Class], axis=1)\n",
    "    data_2  = pd.melt(data_1,id_vars=cn)\n",
    "    sns.violinplot( x=cn, y='variable', hue=\"value\"\n",
    "                   ,data=data_2, palette=\"Set2\", split=True\n",
    "                   ,inner=\"quartile\")\n",
    "   \n",
    "    ax.set_xlabel('')\n",
    "    \n",
    "    ax.set_title('Violin plot of : ' + str(cn))\n",
    "    \n",
    "    \n",
    "plt.show()"
   ]
  },
  {
   "cell_type": "markdown",
   "id": "f4685722",
   "metadata": {},
   "source": [
    "<b> it was mentioned in dataset decription that there are 492 frauds only, checking ver</b>"
   ]
  },
  {
   "cell_type": "code",
   "execution_count": null,
   "id": "43694918",
   "metadata": {},
   "outputs": [],
   "source": [
    "print(data[\"Class\"].value_counts())\n",
    "data.groupby('Class').size().plot(kind='pie',\n",
    "                                       y = \"Class\",\n",
    "                                       label = \"Type\",\n",
    "                                       autopct='%1.1f%%')"
   ]
  },
  {
   "cell_type": "markdown",
   "id": "34b28371",
   "metadata": {},
   "source": [
    "<b> this is true, data only contains 492 1's, meaning 492 frauds"
   ]
  },
  {
   "cell_type": "markdown",
   "id": "517206fd",
   "metadata": {},
   "source": [
    "<h1>  SVM</h1>"
   ]
  },
  {
   "cell_type": "code",
   "execution_count": null,
   "id": "53b9b523",
   "metadata": {},
   "outputs": [],
   "source": [
    "len(data)"
   ]
  },
  {
   "cell_type": "markdown",
   "id": "bdd68633",
   "metadata": {},
   "source": [
    "dataset is relatively big for SVM to funtion fast enough, so we down sample the data so that it doesnt take much time optimizing with cross validation"
   ]
  },
  {
   "cell_type": "code",
   "execution_count": null,
   "id": "753d974c",
   "metadata": {},
   "outputs": [],
   "source": [
    "data_fraud = data[data['Class']==1]\n",
    "data_not_fraud = data[data['Class']==0]"
   ]
  },
  {
   "cell_type": "code",
   "execution_count": null,
   "id": "d0d6de09",
   "metadata": {},
   "outputs": [],
   "source": [
    "len(data_fraud)"
   ]
  },
  {
   "cell_type": "markdown",
   "id": "0eea0995",
   "metadata": {},
   "source": [
    "This shows that data was split correctly \n",
    "\"The dataset contains transactions made by credit cards in September 2013 by European cardholders.\n",
    "This dataset presents transactions that occurred in two days, where we have 492 frauds out of 284,807 transactions. The dataset is highly unbalanced, the positive class (frauds) account for 0.172% of all transactions.\" from info about data set"
   ]
  },
  {
   "cell_type": "code",
   "execution_count": null,
   "id": "2e7b9c33",
   "metadata": {},
   "outputs": [],
   "source": [
    "from sklearn.utils import resample\n",
    "data_not_fraud_downsampled = resample(data_not_fraud,\n",
    "                                                     replace=False,\n",
    "                                                     n_samples = 1000,\n",
    "                                                     random_state = 42)\n",
    "len(data_not_fraud_downsampled)\n",
    "print(data_not_fraud_downsampled.shape)"
   ]
  },
  {
   "cell_type": "code",
   "execution_count": null,
   "id": "f14a8d8b",
   "metadata": {},
   "outputs": [],
   "source": [
    "from sklearn.utils import resample\n",
    "data_fraud_downsampled = resample(data_fraud,\n",
    "                                 replace=False,\n",
    "                                 n_samples = 492,\n",
    "                                random_state = 42)\n",
    "len(data_not_fraud_downsampled)\n",
    "print(data_not_fraud_downsampled.shape)"
   ]
  },
  {
   "cell_type": "code",
   "execution_count": null,
   "id": "fab5d7b1",
   "metadata": {},
   "outputs": [],
   "source": [
    "data_downsampled = pd.concat([data_not_fraud_downsampled, data_fraud_downsampled])\n",
    "len(data_downsampled)"
   ]
  },
  {
   "cell_type": "markdown",
   "id": "b6394355",
   "metadata": {},
   "source": [
    "now all is working, data not fraud sampled to 1000, fraud still remains 492"
   ]
  },
  {
   "cell_type": "markdown",
   "id": "a3d25753",
   "metadata": {},
   "source": [
    "<h2> Splitting the Data</h2>"
   ]
  },
  {
   "cell_type": "code",
   "execution_count": null,
   "id": "a5091ad6",
   "metadata": {},
   "outputs": [],
   "source": [
    "X = data_downsampled.drop('Class', axis = 1).copy()\n",
    "X.head(1)"
   ]
  },
  {
   "cell_type": "code",
   "execution_count": null,
   "id": "127ffec9",
   "metadata": {},
   "outputs": [],
   "source": [
    "y = data_downsampled['Class'].copy()\n",
    "print(y)"
   ]
  },
  {
   "cell_type": "code",
   "execution_count": null,
   "id": "2365225f",
   "metadata": {},
   "outputs": [],
   "source": [
    "len(X)"
   ]
  },
  {
   "cell_type": "code",
   "execution_count": null,
   "id": "4b3e0b55",
   "metadata": {},
   "outputs": [],
   "source": [
    "len(y)"
   ]
  },
  {
   "cell_type": "markdown",
   "id": "69214b6d",
   "metadata": {},
   "source": [
    "<b>Scaling data so that each column has a mean value of 0 and standarrd deviation of 1, we do it separately for training and testing in order to avoid data leakage. \n",
    "we do not need to scale y train as it is just 0 and 1 values </b> "
   ]
  },
  {
   "cell_type": "code",
   "execution_count": null,
   "id": "50e7a8b0",
   "metadata": {},
   "outputs": [],
   "source": [
    "from sklearn.model_selection import train_test_split\n",
    "from sklearn.preprocessing import scale\n",
    "X_train, X_test, y_train, y_test = train_test_split(X, y, test_size = 0.30, random_state = 42)\n",
    "\n",
    "X_train_scaled = scale(X_train)\n",
    "X_test_scaled = scale(X_test)"
   ]
  },
  {
   "cell_type": "code",
   "execution_count": null,
   "id": "9a55b650",
   "metadata": {},
   "outputs": [],
   "source": [
    "from sklearn import svm\n",
    "from sklearn import preprocessing\n",
    "from sklearn.tree import DecisionTreeClassifier\n",
    "from sklearn.neighbors import KNeighborsClassifier\n",
    "from sklearn.cluster import KMeans\n",
    "from sklearn import datasets, neighbors\n",
    "from mlxtend.plotting import plot_decision_regions\n",
    "from sklearn.svm import SVC"
   ]
  },
  {
   "cell_type": "markdown",
   "id": "5796f663",
   "metadata": {},
   "source": [
    "<h1> Hyperparameter Tuning Usinbg Grid Search</h1>"
   ]
  },
  {
   "cell_type": "code",
   "execution_count": null,
   "id": "692e1cfb",
   "metadata": {},
   "outputs": [],
   "source": [
    "svm_classifier_org = svm.SVC()\n",
    "svm_classifier_org.fit(X_train_scaled,y_train)\n",
    "svm_classifier_org.n_support_\n",
    "svm_classifier_org.support_ "
   ]
  },
  {
   "cell_type": "code",
   "execution_count": null,
   "id": "fdd3e956",
   "metadata": {},
   "outputs": [],
   "source": [
    "#Grid search parameters for Hyper Tuning\n",
    "from sklearn.model_selection import GridSearchCV\n",
    "\n",
    "param_grid = { 'C':[0.001,0.01,0.1,1, 10, 100],\n",
    "               'kernel':['rbf','poly','sigmoid','linear'],\n",
    "               'degree':[2,3,4,5,6],\n",
    "               'gamma': ['scale','auto',1, 0.1, 0.01, 0.001, 0.0001],\n",
    "               'class_weight':['balanced']}\n",
    "\n",
    "svm_classifier = GridSearchCV(svm_classifier_org, param_grid, cv=5, scoring='accuracy', verbose=True)\n",
    "# fitting the model for grid search\n",
    "svm_classifier.fit(X_train_scaled, y_train)\n",
    "print(svm_classifier.best_estimator_)\n",
    "print(\"Optimal Hyperparameters: \", svm_classifier.best_params_)"
   ]
  },
  {
   "cell_type": "markdown",
   "id": "fc49ddcb",
   "metadata": {},
   "source": [
    "<h1> Building SVM with optimal parameter</h1>"
   ]
  },
  {
   "cell_type": "code",
   "execution_count": null,
   "id": "1ddc6b27",
   "metadata": {},
   "outputs": [],
   "source": [
    "svm_optimal_classifier = SVC(random_state= 42,  C= 1, class_weight = \"balanced\" , degree=2, gamma = \"scale\", kernel = \"rbf\")\n"
   ]
  },
  {
   "cell_type": "code",
   "execution_count": null,
   "id": "dc973ea3",
   "metadata": {},
   "outputs": [],
   "source": [
    "svm_optimal_classifier.fit(X_train_scaled, y_train)"
   ]
  },
  {
   "cell_type": "code",
   "execution_count": null,
   "id": "8147e306",
   "metadata": {},
   "outputs": [],
   "source": [
    "from sklearn.metrics import confusion_matrix\n",
    "from sklearn.metrics import plot_confusion_matrix\n"
   ]
  },
  {
   "cell_type": "code",
   "execution_count": null,
   "id": "31b123ac",
   "metadata": {},
   "outputs": [],
   "source": [
    "plot_confusion_matrix(svm_optimal_classifier, X_test_scaled, y_test, values_format = \"d\", display_labels = [\" Not Fraud\" , \"Fraud\"])"
   ]
  },
  {
   "cell_type": "code",
   "execution_count": null,
   "id": "f10eeabf",
   "metadata": {},
   "outputs": [],
   "source": [
    "print('Training Accuracy = ' + str(svm_optimal_classifier.score(X_train_scaled, y_train)))\n",
    "print('Testing Accuracy = ' + str(svm_optimal_classifier.score(X_test_scaled, y_test)))"
   ]
  },
  {
   "cell_type": "markdown",
   "id": "eaf6eb06",
   "metadata": {},
   "source": [
    "<b>the difference between the training accuracy and the testing acuuracy is relatively good, since ther eis little difference, it means that no or very little overfitting is taking place. </b>"
   ]
  },
  {
   "cell_type": "code",
   "execution_count": null,
   "id": "7f449615",
   "metadata": {},
   "outputs": [],
   "source": [
    "y_pred = svm_optimal_classifier.predict(X_test_scaled)\n"
   ]
  },
  {
   "cell_type": "code",
   "execution_count": null,
   "id": "fc7e9f4f",
   "metadata": {},
   "outputs": [],
   "source": [
    "from yellowbrick.classifier import ClassificationReport\n",
    "from yellowbrick.datasets import load_occupancy"
   ]
  },
  {
   "cell_type": "code",
   "execution_count": null,
   "id": "861d039a",
   "metadata": {},
   "outputs": [],
   "source": [
    "classes = [\"Not Fraud\", \"Fraud\"]\n",
    "visualizer = ClassificationReport(svm_optimal_classifier, classes=classes, support=True)\n",
    "visualizer.fit(X_train_scaled, y_train)        # Fit the visualizer and the model\n",
    "visualizer.score(X_test_scaled, y_test)        # Evaluate the model on the test data\n",
    "visualizer.show()  "
   ]
  },
  {
   "cell_type": "markdown",
   "id": "fc55a12f",
   "metadata": {},
   "source": [
    "<b>Precision </b>\n",
    "Precision can be seen as a measure of a classifier’s exactness. For each class, it is defined as the ratio of true positives to the sum of true and false positives. Said another way, “for all instances classified positive, what percent was correct?”\n",
    "recall\n",
    "</br>\n",
    "<b>Recall </b>\n",
    "Recall is a measure of the classifier’s completeness; the ability of a classifier to correctly find all positive instances. For each class, it is defined as the ratio of true positives to the sum of true positives and false negatives. Said another way, “for all instances that were actually positive, what percent was classified correctly?”\n",
    "</br>\n",
    "\n",
    "\n",
    "<b>F1 score</b>\n",
    "The F1 score is a weighted harmonic mean of precision and recall such that the best score is 1.0 and the worst is 0.0. Generally speaking, F1 scores are lower than accuracy measures as they embed precision and recall into their computation. As a rule of thumb, the weighted average of F1 should be used to compare classifier models, not global accuracy.\n",
    "</br>\n",
    "\n",
    "\n",
    "<b>Support</b>\n",
    "Support is the number of actual occurrences of the class in the specified dataset. Imbalanced support in the training data may indicate structural weaknesses in the reported scores of the classifier and could indicate the need for stratified sampling or rebalancing. Support doesn’t change between models but instead diagnoses the evaluation process.\n",
    "</br>\n",
    "\n",
    "<b> Precision will tell you how many you guessed positive that were not. (False Positives). 50% recall would be bad meaning you're not guessing many of your imbalanced class,</b>"
   ]
  },
  {
   "cell_type": "code",
   "execution_count": null,
   "id": "5ecd1c69",
   "metadata": {},
   "outputs": [],
   "source": [
    "from sklearn.metrics import precision_recall_curve\n",
    "import matplotlib.pyplot as plt\n",
    "precision, recall, thresholds = precision_recall_curve(y_test, y_pred)\n",
    "\n",
    "#create precision recall curve\n",
    "fig, ax = plt.subplots()\n",
    "ax.plot(recall, precision, color='purple')\n",
    "\n",
    "#add axis labels to plot\n",
    "ax.set_title('Precision-Recall Curve')\n",
    "ax.set_ylabel('Precision')\n",
    "ax.set_xlabel('Recall')\n",
    "\n",
    "#display plot\n",
    "plt.show()"
   ]
  },
  {
   "cell_type": "markdown",
   "id": "a846b078",
   "metadata": {},
   "source": [
    "<h1> Visualizing the Data</h1>"
   ]
  },
  {
   "cell_type": "markdown",
   "id": "3f593583",
   "metadata": {},
   "source": [
    "we have 30 coloumsn meaning we have 30 dimensions, we need to collapse dimensions in order to plot it\n",
    "we will use Principal Component Analysis to combine 30 features into 2 meta-features that are orthogonal\n",
    "first, we calculate accuracy of plot beore drawing it, f its not useful, it will be dismissed\n",
    "used scree plot "
   ]
  },
  {
   "cell_type": "code",
   "execution_count": null,
   "id": "44eb2e6f",
   "metadata": {},
   "outputs": [],
   "source": [
    "from sklearn.decomposition import PCA\n",
    "pca = PCA()\n",
    "X_train_pca = pca.fit_transform(X_train_scaled)\n",
    "per_var = np.round(pca.explained_variance_ratio_ * 100 , decimals = 1)"
   ]
  },
  {
   "cell_type": "code",
   "execution_count": null,
   "id": "5201fcf1",
   "metadata": {},
   "outputs": [],
   "source": [
    "plt.bar(x=range(1, len(per_var)+1), height = per_var)\n",
    "plt.tick_params(axis= 'x',  which = 'both', bottom = False, top = False , labelbottom= False)\n",
    "\n",
    "plt.ylabel('% of explained variance')\n",
    "plt.xlabel('principal components')\n",
    "plt.title('scree plot')\n",
    "plt.show()"
   ]
  },
  {
   "cell_type": "markdown",
   "id": "ece9ebf6",
   "metadata": {},
   "source": [
    "the scree plot shows thar the first variable is indeed standing out from others and can be used to describe the others, as it accounts to a large amount of variation in the data therefore it will be a good candidate for the x aix of the 2-dimensional graph. however, second variable barely stands out from the rest, this is bad, however we can still draw the graph"
   ]
  },
  {
   "cell_type": "code",
   "execution_count": null,
   "id": "e72f3029",
   "metadata": {},
   "outputs": [],
   "source": [
    "train_pc1_coords = X_train_pca[: , 0]\n",
    "train_pc2_coords = X_train_pca[: , 1]\n",
    "\n",
    "pca_train_scaled = scale(np.column_stack((train_pc1_coords, train_pc2_coords)))\n",
    "\n",
    "\n",
    "\n",
    "param_grid = { 'C':[0.001,0.01,0.1,1, 10, 100],\n",
    "               'kernel':['rbf','poly','sigmoid','linear'],\n",
    "               'degree':[2,3,4,5,6],\n",
    "               'gamma': ['scale','auto',1, 0.1, 0.01, 0.001, 0.0001],\n",
    "               'class_weight':['balanced']}\n",
    "\n",
    "svm_classifier = GridSearchCV(svm_classifier_org, param_grid, cv=5, scoring='accuracy', verbose=True)\n",
    "# fitting the model for grid search\n",
    "svm_classifier.fit(pca_train_scaled, y_train)\n",
    "print(svm_classifier.best_estimator_)\n",
    "print(\"Optimal Hyperparameters: \", svm_classifier.best_params_)"
   ]
  },
  {
   "cell_type": "code",
   "execution_count": null,
   "id": "6b13a709",
   "metadata": {},
   "outputs": [],
   "source": [
    "\n",
    "svm_classifier = SVC(random_state = 42, C = 0.1, class_weight = 'balanced', degree = 2, gamma='scale', kernel = 'linear')\n",
    "svm_classifier.fit(pca_train_scaled, y_train)\n",
    "\n",
    "X_test_pca = pca.transform(X_train_scaled)\n",
    "test_pc1_coords = X_test_pca[:, 0]\n",
    "test_pc2_coords = X_test_pca[:, 1]\n",
    "\n",
    "#matrix of points that will we will use to show the decison regions\n",
    "x_min= test_pc1_coords.min() -1 \n",
    "x_max = test_pc1_coords.max() +1 \n",
    "\n",
    "y_min= test_pc2_coords.min() -1 \n",
    "y_max = test_pc2_coords.max() +1 \n",
    "#pionts on one side of classification boundary will be assigned a 0, and points on other side will be assigned a 1\n",
    "xx,yy = np.meshgrid(np.arange(start=x_min, stop=x_max, step = 0.1), \n",
    "                   np.arange(start=y_min, stop= y_max, step= 0.1))\n",
    "Z= svm_classifier.predict(np.column_stack((xx.ravel(), yy.ravel())))\n",
    "#now Z contains 0 and 1s describing how each point was classified, we reshape it so that each \n",
    "#classification corressponds to a specific point in the matrix\n",
    "\n",
    "Z= Z.reshape(xx.shape)\n",
    "\n",
    "import matplotlib.colors as colors\n",
    "\n",
    "fig, ax = plt.subplots(figsize=(10,10))\n",
    "ax.contourf(xx,yy, Z, alpha = 0.1)\n",
    "cmap =colors.ListedColormap([\"#e41a1c\",\"#4daf4a\"])\n",
    "# we can set alpha to 0.7 to see if we are covering  up a point\n",
    "scatter =ax.scatter(test_pc1_coords, test_pc2_coords, c=y_train, cmap=cmap, s=100, edgecolors='k', alpha=0.7)\n",
    "\n",
    "legend  =ax.legend(scatter.legend_elements()[0],\n",
    "                  scatter.legend_elements()[1], \n",
    "                  loc= \"upper right\")\n",
    "\n",
    "legend.get_texts()[0].set_text(\"Fraud\")\n",
    "legend.get_texts()[1].set_text(\"No Fraud\")\n",
    "\n",
    "ax.set_ylabel(\"PC2\")\n",
    "ax.set_xlabel(\"PC1\")\n",
    "ax.set_title(\"Decision surface using PCA transformed features\")\n",
    "plt.show()\n",
    "\n",
    "\n",
    "\n"
   ]
  },
  {
   "cell_type": "markdown",
   "id": "3a690040",
   "metadata": {},
   "source": [
    "<h1> K-Means Clustering</h1>"
   ]
  },
  {
   "cell_type": "markdown",
   "id": "da7b244d",
   "metadata": {},
   "source": [
    "<h2> Implementing K-Means with the use of Elbow Method</h2>"
   ]
  },
  {
   "cell_type": "code",
   "execution_count": 3,
   "id": "15825e29",
   "metadata": {},
   "outputs": [],
   "source": [
    "from sklearn.datasets import make_blobs\n",
    "from sklearn.cluster import KMeans\n"
   ]
  },
  {
   "cell_type": "markdown",
   "id": "9fea04cb",
   "metadata": {},
   "source": [
    "<h3> Scaling the Data</h3>"
   ]
  },
  {
   "cell_type": "code",
   "execution_count": null,
   "id": "e35c2e13",
   "metadata": {},
   "outputs": [],
   "source": []
  },
  {
   "cell_type": "markdown",
   "id": "b7633c51",
   "metadata": {},
   "source": [
    "<h2> Finding Optimum K By Elbow Method</h2>"
   ]
  },
  {
   "cell_type": "code",
   "execution_count": 4,
   "id": "80e00f64",
   "metadata": {},
   "outputs": [],
   "source": [
    "km = KMeans(n_clusters = 3)\n",
    "data['cluster'] = km.fit_predict(data)"
   ]
  },
  {
   "cell_type": "code",
   "execution_count": 5,
   "id": "a3ee98fc",
   "metadata": {},
   "outputs": [],
   "source": [
    "dist_data = []\n",
    "for num_clusters in range(1,6):\n",
    "    km= KMeans(n_clusters=num_clusters)\n",
    "    km.fit(data)\n",
    "    dist_data.append([num_clusters,km.inertia_])\n",
    "dist_data = pd.DataFrame(dist_data, columns = ['Number of Clusters', 'Distance'])\n",
    "#checking error with different number of clusters from 1 to 11, error is corresponding to distance between datapoints"
   ]
  },
  {
   "cell_type": "code",
   "execution_count": 6,
   "id": "ff27daf6",
   "metadata": {},
   "outputs": [
    {
     "data": {
      "text/html": [
       "<div>\n",
       "<style scoped>\n",
       "    .dataframe tbody tr th:only-of-type {\n",
       "        vertical-align: middle;\n",
       "    }\n",
       "\n",
       "    .dataframe tbody tr th {\n",
       "        vertical-align: top;\n",
       "    }\n",
       "\n",
       "    .dataframe thead th {\n",
       "        text-align: right;\n",
       "    }\n",
       "</style>\n",
       "<table border=\"1\" class=\"dataframe\">\n",
       "  <thead>\n",
       "    <tr style=\"text-align: right;\">\n",
       "      <th></th>\n",
       "      <th>Number of Clusters</th>\n",
       "      <th>Distance</th>\n",
       "    </tr>\n",
       "  </thead>\n",
       "  <tbody>\n",
       "    <tr>\n",
       "      <th>0</th>\n",
       "      <td>1</td>\n",
       "      <td>6.422907e+14</td>\n",
       "    </tr>\n",
       "    <tr>\n",
       "      <th>1</th>\n",
       "      <td>2</td>\n",
       "      <td>1.183201e+14</td>\n",
       "    </tr>\n",
       "    <tr>\n",
       "      <th>2</th>\n",
       "      <td>3</td>\n",
       "      <td>6.300272e+13</td>\n",
       "    </tr>\n",
       "    <tr>\n",
       "      <th>3</th>\n",
       "      <td>4</td>\n",
       "      <td>3.567895e+13</td>\n",
       "    </tr>\n",
       "    <tr>\n",
       "      <th>4</th>\n",
       "      <td>5</td>\n",
       "      <td>2.368439e+13</td>\n",
       "    </tr>\n",
       "  </tbody>\n",
       "</table>\n",
       "</div>"
      ],
      "text/plain": [
       "   Number of Clusters      Distance\n",
       "0                   1  6.422907e+14\n",
       "1                   2  1.183201e+14\n",
       "2                   3  6.300272e+13\n",
       "3                   4  3.567895e+13\n",
       "4                   5  2.368439e+13"
      ]
     },
     "execution_count": 6,
     "metadata": {},
     "output_type": "execute_result"
    }
   ],
   "source": [
    "dist_data"
   ]
  },
  {
   "cell_type": "code",
   "execution_count": 7,
   "id": "5eec85e5",
   "metadata": {},
   "outputs": [
    {
     "data": {
      "text/plain": [
       "Text(0.5, 1.0, 'K-Means Elbow Method')"
      ]
     },
     "execution_count": 7,
     "metadata": {},
     "output_type": "execute_result"
    },
    {
     "data": {
      "image/png": "[encoded data removed]",
      "text/plain": [
       "<Figure size 432x288 with 1 Axes>"
      ]
     },
     "metadata": {
      "needs_background": "light"
     },
     "output_type": "display_data"
    }
   ],
   "source": [
    "dist_data.set_index('Number of Clusters').plot()\n",
    "plt.xlabel('Number of Clusters')\n",
    "plt.ylabel('Squared Distance to Cluster Center')\n",
    "plt.title(\"K-Means Elbow Method\")"
   ]
  },
  {
   "cell_type": "markdown",
   "id": "637c5c18",
   "metadata": {},
   "source": [
    "this shows that the optimim number of K would be 2"
   ]
  },
  {
   "cell_type": "code",
   "execution_count": 8,
   "id": "536dc628",
   "metadata": {},
   "outputs": [],
   "source": [
    "km = KMeans(n_clusters=2)\n",
    "data['cluster'] = km.fit_predict(data)\n",
    "#creating new column in dataframe to record cluster outputs"
   ]
  },
  {
   "cell_type": "code",
   "execution_count": 9,
   "id": "a730a8ab",
   "metadata": {},
   "outputs": [
    {
     "data": {
      "text/html": [
       "<div>\n",
       "<style scoped>\n",
       "    .dataframe tbody tr th:only-of-type {\n",
       "        vertical-align: middle;\n",
       "    }\n",
       "\n",
       "    .dataframe tbody tr th {\n",
       "        vertical-align: top;\n",
       "    }\n",
       "\n",
       "    .dataframe thead th {\n",
       "        text-align: right;\n",
       "    }\n",
       "</style>\n",
       "<table border=\"1\" class=\"dataframe\">\n",
       "  <thead>\n",
       "    <tr style=\"text-align: right;\">\n",
       "      <th></th>\n",
       "      <th>Time</th>\n",
       "      <th>V1</th>\n",
       "      <th>V2</th>\n",
       "      <th>V3</th>\n",
       "      <th>V4</th>\n",
       "      <th>V5</th>\n",
       "      <th>V6</th>\n",
       "      <th>V7</th>\n",
       "      <th>V8</th>\n",
       "      <th>V9</th>\n",
       "      <th>...</th>\n",
       "      <th>V22</th>\n",
       "      <th>V23</th>\n",
       "      <th>V24</th>\n",
       "      <th>V25</th>\n",
       "      <th>V26</th>\n",
       "      <th>V27</th>\n",
       "      <th>V28</th>\n",
       "      <th>Amount</th>\n",
       "      <th>Class</th>\n",
       "      <th>cluster</th>\n",
       "    </tr>\n",
       "  </thead>\n",
       "  <tbody>\n",
       "    <tr>\n",
       "      <th>0</th>\n",
       "      <td>0.0</td>\n",
       "      <td>-1.359807</td>\n",
       "      <td>-0.072781</td>\n",
       "      <td>2.536347</td>\n",
       "      <td>1.378155</td>\n",
       "      <td>-0.338321</td>\n",
       "      <td>0.462388</td>\n",
       "      <td>0.239599</td>\n",
       "      <td>0.098698</td>\n",
       "      <td>0.363787</td>\n",
       "      <td>...</td>\n",
       "      <td>0.277838</td>\n",
       "      <td>-0.110474</td>\n",
       "      <td>0.066928</td>\n",
       "      <td>0.128539</td>\n",
       "      <td>-0.189115</td>\n",
       "      <td>0.133558</td>\n",
       "      <td>-0.021053</td>\n",
       "      <td>149.62</td>\n",
       "      <td>0</td>\n",
       "      <td>1</td>\n",
       "    </tr>\n",
       "    <tr>\n",
       "      <th>1</th>\n",
       "      <td>0.0</td>\n",
       "      <td>1.191857</td>\n",
       "      <td>0.266151</td>\n",
       "      <td>0.166480</td>\n",
       "      <td>0.448154</td>\n",
       "      <td>0.060018</td>\n",
       "      <td>-0.082361</td>\n",
       "      <td>-0.078803</td>\n",
       "      <td>0.085102</td>\n",
       "      <td>-0.255425</td>\n",
       "      <td>...</td>\n",
       "      <td>-0.638672</td>\n",
       "      <td>0.101288</td>\n",
       "      <td>-0.339846</td>\n",
       "      <td>0.167170</td>\n",
       "      <td>0.125895</td>\n",
       "      <td>-0.008983</td>\n",
       "      <td>0.014724</td>\n",
       "      <td>2.69</td>\n",
       "      <td>0</td>\n",
       "      <td>1</td>\n",
       "    </tr>\n",
       "    <tr>\n",
       "      <th>2</th>\n",
       "      <td>1.0</td>\n",
       "      <td>-1.358354</td>\n",
       "      <td>-1.340163</td>\n",
       "      <td>1.773209</td>\n",
       "      <td>0.379780</td>\n",
       "      <td>-0.503198</td>\n",
       "      <td>1.800499</td>\n",
       "      <td>0.791461</td>\n",
       "      <td>0.247676</td>\n",
       "      <td>-1.514654</td>\n",
       "      <td>...</td>\n",
       "      <td>0.771679</td>\n",
       "      <td>0.909412</td>\n",
       "      <td>-0.689281</td>\n",
       "      <td>-0.327642</td>\n",
       "      <td>-0.139097</td>\n",
       "      <td>-0.055353</td>\n",
       "      <td>-0.059752</td>\n",
       "      <td>378.66</td>\n",
       "      <td>0</td>\n",
       "      <td>1</td>\n",
       "    </tr>\n",
       "    <tr>\n",
       "      <th>3</th>\n",
       "      <td>1.0</td>\n",
       "      <td>-0.966272</td>\n",
       "      <td>-0.185226</td>\n",
       "      <td>1.792993</td>\n",
       "      <td>-0.863291</td>\n",
       "      <td>-0.010309</td>\n",
       "      <td>1.247203</td>\n",
       "      <td>0.237609</td>\n",
       "      <td>0.377436</td>\n",
       "      <td>-1.387024</td>\n",
       "      <td>...</td>\n",
       "      <td>0.005274</td>\n",
       "      <td>-0.190321</td>\n",
       "      <td>-1.175575</td>\n",
       "      <td>0.647376</td>\n",
       "      <td>-0.221929</td>\n",
       "      <td>0.062723</td>\n",
       "      <td>0.061458</td>\n",
       "      <td>123.50</td>\n",
       "      <td>0</td>\n",
       "      <td>1</td>\n",
       "    </tr>\n",
       "    <tr>\n",
       "      <th>4</th>\n",
       "      <td>2.0</td>\n",
       "      <td>-1.158233</td>\n",
       "      <td>0.877737</td>\n",
       "      <td>1.548718</td>\n",
       "      <td>0.403034</td>\n",
       "      <td>-0.407193</td>\n",
       "      <td>0.095921</td>\n",
       "      <td>0.592941</td>\n",
       "      <td>-0.270533</td>\n",
       "      <td>0.817739</td>\n",
       "      <td>...</td>\n",
       "      <td>0.798278</td>\n",
       "      <td>-0.137458</td>\n",
       "      <td>0.141267</td>\n",
       "      <td>-0.206010</td>\n",
       "      <td>0.502292</td>\n",
       "      <td>0.219422</td>\n",
       "      <td>0.215153</td>\n",
       "      <td>69.99</td>\n",
       "      <td>0</td>\n",
       "      <td>1</td>\n",
       "    </tr>\n",
       "  </tbody>\n",
       "</table>\n",
       "<p>5 rows × 32 columns</p>\n",
       "</div>"
      ],
      "text/plain": [
       "   Time        V1        V2        V3        V4        V5        V6        V7  \\\n",
       "0   0.0 -1.359807 -0.072781  2.536347  1.378155 -0.338321  0.462388  0.239599   \n",
       "1   0.0  1.191857  0.266151  0.166480  0.448154  0.060018 -0.082361 -0.078803   \n",
       "2   1.0 -1.358354 -1.340163  1.773209  0.379780 -0.503198  1.800499  0.791461   \n",
       "3   1.0 -0.966272 -0.185226  1.792993 -0.863291 -0.010309  1.247203  0.237609   \n",
       "4   2.0 -1.158233  0.877737  1.548718  0.403034 -0.407193  0.095921  0.592941   \n",
       "\n",
       "         V8        V9  ...       V22       V23       V24       V25       V26  \\\n",
       "0  0.098698  0.363787  ...  0.277838 -0.110474  0.066928  0.128539 -0.189115   \n",
       "1  0.085102 -0.255425  ... -0.638672  0.101288 -0.339846  0.167170  0.125895   \n",
       "2  0.247676 -1.514654  ...  0.771679  0.909412 -0.689281 -0.327642 -0.139097   \n",
       "3  0.377436 -1.387024  ...  0.005274 -0.190321 -1.175575  0.647376 -0.221929   \n",
       "4 -0.270533  0.817739  ...  0.798278 -0.137458  0.141267 -0.206010  0.502292   \n",
       "\n",
       "        V27       V28  Amount  Class  cluster  \n",
       "0  0.133558 -0.021053  149.62      0        1  \n",
       "1 -0.008983  0.014724    2.69      0        1  \n",
       "2 -0.055353 -0.059752  378.66      0        1  \n",
       "3  0.062723  0.061458  123.50      0        1  \n",
       "4  0.219422  0.215153   69.99      0        1  \n",
       "\n",
       "[5 rows x 32 columns]"
      ]
     },
     "execution_count": 9,
     "metadata": {},
     "output_type": "execute_result"
    }
   ],
   "source": [
    "data.head()"
   ]
  },
  {
   "cell_type": "code",
   "execution_count": null,
   "id": "f95d76f6",
   "metadata": {},
   "outputs": [],
   "source": [
    "data.cluster.value_counts()"
   ]
  },
  {
   "cell_type": "code",
   "execution_count": null,
   "id": "e1fc62b6",
   "metadata": {},
   "outputs": [],
   "source": [
    "X, y_true = make_blobs(n_samples=300, centers=20,cluster_std=0.60, random_state=0)\n",
    "plt.scatter(X[:, 0], X[:, 1], s=50);"
   ]
  },
  {
   "cell_type": "code",
   "execution_count": null,
   "id": "d6a2cd6b",
   "metadata": {},
   "outputs": [],
   "source": [
    "kmeans = KMeans(n_clusters=20) #divide the data to 3 clusters\n",
    "kmeans.fit(X)\n",
    "y_kmeans = kmeans.predict(X)\n",
    "\n",
    "plt.scatter(X[:, 0], X[:, 1], c=y_kmeans, s=50, cmap='viridis')\n",
    "centers = kmeans.cluster_centers_\n",
    "plt.scatter(centers[:, 0], centers[:, 1], c='black', s=200, alpha=0.5);"
   ]
  },
  {
   "cell_type": "code",
   "execution_count": null,
   "id": "1c4a0cd4",
   "metadata": {},
   "outputs": [],
   "source": []
  },
  {
   "cell_type": "code",
   "execution_count": null,
   "id": "bfefd5fc",
   "metadata": {},
   "outputs": [],
   "source": [
    "\n"
   ]
  },
  {
   "cell_type": "code",
   "execution_count": null,
   "id": "9c9c48ec",
   "metadata": {},
   "outputs": [],
   "source": []
  },
  {
   "cell_type": "code",
   "execution_count": null,
   "id": "434c067d",
   "metadata": {},
   "outputs": [],
   "source": []
  }
 ],
 "metadata": {
  "kernelspec": {
   "display_name": "Python 3 (ipykernel)",
   "language": "python",
   "name": "python3"
  },
  "language_info": {
   "codemirror_mode": {
    "name": "ipython",
    "version": 3
   },
   "file_extension": ".py",
   "mimetype": "text/x-python",
   "name": "python",
   "nbconvert_exporter": "python",
   "pygments_lexer": "ipython3",
   "version": "3.9.5"
  }
 },
 "nbformat": 4,
 "nbformat_minor": 5
}
