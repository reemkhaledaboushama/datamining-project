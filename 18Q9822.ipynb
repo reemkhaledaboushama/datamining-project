{
 "cells": [
  {
   "cell_type": "markdown",
   "id": "78317343",
   "metadata": {},
   "source": [
    "<h1> Reem Khaled Elsayed Aboushama </h1>  </br>  <h2>Data Mining and Business Intelligence</h2> </br> <h2> CSE 382 </h2>"
   ]
  },
  {
   "cell_type": "code",
   "execution_count": 1,
   "id": "c31b7d73",
   "metadata": {},
   "outputs": [],
   "source": [
    "import pandas as pd\n",
    "import numpy as np"
   ]
  },
  {
   "cell_type": "markdown",
   "id": "1fa57c7f",
   "metadata": {},
   "source": [
    "<h2>Reading the data<h2>"
   ]
  },
  {
   "cell_type": "code",
   "execution_count": null,
   "id": "8ed4a41e",
   "metadata": {},
   "outputs": [],
   "source": [
    "data = pd.read_csv(r\"creditcard.csv\")\n"
   ]
  }
 ],
 "metadata": {
  "kernelspec": {
   "display_name": "Python 3 (ipykernel)",
   "language": "python",
   "name": "python3"
  },
  "language_info": {
   "codemirror_mode": {
    "name": "ipython",
    "version": 3
   },
   "file_extension": ".py",
   "mimetype": "text/x-python",
   "name": "python",
   "nbconvert_exporter": "python",
   "pygments_lexer": "ipython3",
   "version": "3.9.5"
  }
 },
 "nbformat": 4,
 "nbformat_minor": 5
}
